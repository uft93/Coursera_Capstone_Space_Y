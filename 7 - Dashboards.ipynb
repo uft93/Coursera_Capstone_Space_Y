{
 "cells": [
  {
   "cell_type": "code",
   "execution_count": 1,
   "id": "drawn-sauce",
   "metadata": {},
   "outputs": [],
   "source": [
    "# Import required libraries\n",
    "import pandas as pd\n",
    "import dash\n",
    "import dash_html_components as html\n",
    "import dash_core_components as dcc\n",
    "from dash.dependencies import Input, Output\n",
    "import plotly.express as px\n",
    "\n",
    "# Read the airline data into pandas dataframe\n",
    "spacex_df = pd.read_csv(\"spacex_launch_dash.csv\")\n",
    "max_payload = spacex_df['Payload Mass (kg)'].max()\n",
    "min_payload = spacex_df['Payload Mass (kg)'].min()"
   ]
  },
  {
   "cell_type": "code",
   "execution_count": null,
   "id": "similar-description",
   "metadata": {},
   "outputs": [],
   "source": [
    "\n",
    "        df1=filtered_df.groupby(['Launch Site','class']).size().reset_index(name='class count')\n",
    "        fig = px.pie(df1, values='class count', names='class', title=f\"Total Success Launches for site {entered_site}\")\n",
    "        return fig\n"
   ]
  },
  {
   "cell_type": "code",
   "execution_count": 2,
   "id": "objective-saver",
   "metadata": {},
   "outputs": [],
   "source": [
    "\n",
    "filtered_df = spacex_df[spacex_df['Launch Site'] == 'CCAFS LC-40']"
   ]
  },
  {
   "cell_type": "code",
   "execution_count": 10,
   "id": "healthy-joining",
   "metadata": {},
   "outputs": [
    {
     "data": {
      "text/html": [
       "<div>\n",
       "<style scoped>\n",
       "    .dataframe tbody tr th:only-of-type {\n",
       "        vertical-align: middle;\n",
       "    }\n",
       "\n",
       "    .dataframe tbody tr th {\n",
       "        vertical-align: top;\n",
       "    }\n",
       "\n",
       "    .dataframe thead th {\n",
       "        text-align: right;\n",
       "    }\n",
       "</style>\n",
       "<table border=\"1\" class=\"dataframe\">\n",
       "  <thead>\n",
       "    <tr style=\"text-align: right;\">\n",
       "      <th></th>\n",
       "      <th>Launch Site</th>\n",
       "      <th>class</th>\n",
       "      <th>0</th>\n",
       "    </tr>\n",
       "  </thead>\n",
       "  <tbody>\n",
       "    <tr>\n",
       "      <th>0</th>\n",
       "      <td>CCAFS LC-40</td>\n",
       "      <td>0</td>\n",
       "      <td>19</td>\n",
       "    </tr>\n",
       "    <tr>\n",
       "      <th>1</th>\n",
       "      <td>CCAFS LC-40</td>\n",
       "      <td>1</td>\n",
       "      <td>7</td>\n",
       "    </tr>\n",
       "  </tbody>\n",
       "</table>\n",
       "</div>"
      ],
      "text/plain": [
       "   Launch Site  class   0\n",
       "0  CCAFS LC-40      0  19\n",
       "1  CCAFS LC-40      1   7"
      ]
     },
     "execution_count": 10,
     "metadata": {},
     "output_type": "execute_result"
    }
   ],
   "source": [
    "filtered_df.groupby(['Launch Site', 'class']).size().reset_index()"
   ]
  },
  {
   "cell_type": "code",
   "execution_count": null,
   "id": "built-independence",
   "metadata": {},
   "outputs": [
    {
     "name": "stdout",
     "output_type": "stream",
     "text": [
      "Dash is running on http://127.0.0.1:8050/\n",
      "\n",
      " * Serving Flask app '__main__' (lazy loading)\n",
      " * Environment: production\n",
      "\u001b[31m   WARNING: This is a development server. Do not use it in a production deployment.\u001b[0m\n",
      "\u001b[2m   Use a production WSGI server instead.\u001b[0m\n",
      " * Debug mode: off\n"
     ]
    },
    {
     "name": "stderr",
     "output_type": "stream",
     "text": [
      " * Running on http://127.0.0.1:8050/ (Press CTRL+C to quit)\n",
      "127.0.0.1 - - [18/Sep/2021 20:14:19] \"GET / HTTP/1.1\" 200 -\n",
      "127.0.0.1 - - [18/Sep/2021 20:14:20] \"GET /_dash-dependencies HTTP/1.1\" 200 -\n",
      "127.0.0.1 - - [18/Sep/2021 20:14:20] \"GET /_dash-layout HTTP/1.1\" 200 -\n",
      "127.0.0.1 - - [18/Sep/2021 20:14:20] \"GET /_dash-component-suites/dash_core_components/async-slider.v1_16_0m1617903285.js HTTP/1.1\" 200 -\n",
      "127.0.0.1 - - [18/Sep/2021 20:14:21] \"POST /_dash-update-component HTTP/1.1\" 200 -\n",
      "127.0.0.1 - - [18/Sep/2021 20:14:21] \"POST /_dash-update-component HTTP/1.1\" 200 -\n",
      "127.0.0.1 - - [18/Sep/2021 20:14:22] \"POST /_dash-update-component HTTP/1.1\" 200 -\n"
     ]
    },
    {
     "name": "stdout",
     "output_type": "stream",
     "text": [
      "Exception on /_dash-update-component [POST]\n",
      "Traceback (most recent call last):\n",
      "  File \"c:\\python39\\lib\\site-packages\\flask\\app.py\", line 2070, in wsgi_app\n",
      "    response = self.full_dispatch_request()\n",
      "  File \"c:\\python39\\lib\\site-packages\\flask\\app.py\", line 1515, in full_dispatch_request\n",
      "    rv = self.handle_user_exception(e)\n",
      "  File \"c:\\python39\\lib\\site-packages\\flask\\app.py\", line 1513, in full_dispatch_request\n",
      "    rv = self.dispatch_request()\n",
      "  File \"c:\\python39\\lib\\site-packages\\flask\\app.py\", line 1499, in dispatch_request\n",
      "    return self.ensure_sync(self.view_functions[rule.endpoint])(**req.view_args)\n",
      "  File \"C:\\Users\\Asus\\AppData\\Roaming\\Python\\Python39\\site-packages\\dash\\dash.py\", line 1079, in dispatch\n",
      "    response.set_data(func(*args, outputs_list=outputs_list))\n",
      "  File \"C:\\Users\\Asus\\AppData\\Roaming\\Python\\Python39\\site-packages\\dash\\dash.py\", line 1010, in add_context\n",
      "    output_value = func(*args, **kwargs)  # %% callback invoked %%\n",
      "  File \"<ipython-input-2-425987e227b7>\", line 48, in get_pie_chart\n",
      "    df_site_filtered=spacex_df[spacex_df['Launch Site']==site]\n",
      "NameError: name 'site' is not defined\n"
     ]
    },
    {
     "name": "stderr",
     "output_type": "stream",
     "text": [
      "127.0.0.1 - - [18/Sep/2021 20:14:22] \"POST /_dash-update-component HTTP/1.1\" 500 -\n",
      "127.0.0.1 - - [18/Sep/2021 20:14:34] \"GET / HTTP/1.1\" 200 -\n",
      "127.0.0.1 - - [18/Sep/2021 20:14:34] \"GET /_dash-component-suites/dash_renderer/prop-types@15.v1_9_1m1625147221.7.2.min.js HTTP/1.1\" 200 -\n",
      "127.0.0.1 - - [18/Sep/2021 20:14:34] \"GET /_dash-component-suites/dash_renderer/react@16.v1_9_1m1625147221.14.0.min.js HTTP/1.1\" 200 -\n",
      "127.0.0.1 - - [18/Sep/2021 20:14:34] \"GET /_dash-component-suites/dash_renderer/polyfill@7.v1_9_1m1625147221.8.7.min.js HTTP/1.1\" 200 -\n",
      "127.0.0.1 - - [18/Sep/2021 20:14:34] \"GET /_dash-component-suites/dash_renderer/react-dom@16.v1_9_1m1625147221.14.0.min.js HTTP/1.1\" 200 -\n",
      "127.0.0.1 - - [18/Sep/2021 20:14:34] \"GET /_dash-component-suites/dash_core_components/dash_core_components-shared.v1_16_0m1625147222.js HTTP/1.1\" 200 -\n",
      "127.0.0.1 - - [18/Sep/2021 20:14:34] \"GET /_dash-component-suites/dash_html_components/dash_html_components.v1_1_3m1625147221.min.js HTTP/1.1\" 200 -\n",
      "127.0.0.1 - - [18/Sep/2021 20:14:34] \"GET /_dash-component-suites/dash_renderer/dash_renderer.v1_9_1m1625147221.min.js HTTP/1.1\" 200 -\n",
      "127.0.0.1 - - [18/Sep/2021 20:14:34] \"GET /_dash-component-suites/dash_core_components/dash_core_components.v1_16_0m1625147222.min.js HTTP/1.1\" 200 -\n",
      "127.0.0.1 - - [18/Sep/2021 20:14:34] \"GET /_dash-dependencies HTTP/1.1\" 200 -\n",
      "127.0.0.1 - - [18/Sep/2021 20:14:34] \"GET /_dash-layout HTTP/1.1\" 200 -\n",
      "127.0.0.1 - - [18/Sep/2021 20:14:34] \"GET /_favicon.ico?v=1.20.0 HTTP/1.1\" 200 -\n",
      "127.0.0.1 - - [18/Sep/2021 20:14:34] \"POST /_dash-update-component HTTP/1.1\" 200 -\n",
      "127.0.0.1 - - [18/Sep/2021 20:14:34] \"POST /_dash-update-component HTTP/1.1\" 200 -\n",
      "127.0.0.1 - - [18/Sep/2021 20:14:34] \"GET /_dash-component-suites/dash_core_components/async-dropdown.v1_16_0m1617903285.js HTTP/1.1\" 200 -\n",
      "127.0.0.1 - - [18/Sep/2021 20:14:34] \"GET /_dash-component-suites/dash_core_components/async-graph.v1_16_0m1617903285.js HTTP/1.1\" 200 -\n",
      "127.0.0.1 - - [18/Sep/2021 20:14:34] \"GET /_dash-component-suites/dash_core_components/async-slider.v1_16_0m1617903285.js HTTP/1.1\" 200 -\n",
      "127.0.0.1 - - [18/Sep/2021 20:14:34] \"GET /_dash-component-suites/dash_core_components/async-plotlyjs.v1_16_0m1617903285.js HTTP/1.1\" 200 -\n"
     ]
    },
    {
     "name": "stdout",
     "output_type": "stream",
     "text": [
      "Exception on /_dash-update-component [POST]\n",
      "Traceback (most recent call last):\n",
      "  File \"c:\\python39\\lib\\site-packages\\flask\\app.py\", line 2070, in wsgi_app\n",
      "    response = self.full_dispatch_request()\n",
      "  File \"c:\\python39\\lib\\site-packages\\flask\\app.py\", line 1515, in full_dispatch_request\n",
      "    rv = self.handle_user_exception(e)\n",
      "  File \"c:\\python39\\lib\\site-packages\\flask\\app.py\", line 1513, in full_dispatch_request\n",
      "    rv = self.dispatch_request()\n",
      "  File \"c:\\python39\\lib\\site-packages\\flask\\app.py\", line 1499, in dispatch_request\n",
      "    return self.ensure_sync(self.view_functions[rule.endpoint])(**req.view_args)\n",
      "  File \"C:\\Users\\Asus\\AppData\\Roaming\\Python\\Python39\\site-packages\\dash\\dash.py\", line 1079, in dispatch\n",
      "    response.set_data(func(*args, outputs_list=outputs_list))\n",
      "  File \"C:\\Users\\Asus\\AppData\\Roaming\\Python\\Python39\\site-packages\\dash\\dash.py\", line 1010, in add_context\n",
      "    output_value = func(*args, **kwargs)  # %% callback invoked %%\n",
      "  File \"<ipython-input-2-425987e227b7>\", line 48, in get_pie_chart\n",
      "    df_site_filtered=spacex_df[spacex_df['Launch Site']==site]\n",
      "NameError: name 'site' is not defined\n"
     ]
    },
    {
     "name": "stderr",
     "output_type": "stream",
     "text": [
      "127.0.0.1 - - [18/Sep/2021 20:14:37] \"POST /_dash-update-component HTTP/1.1\" 500 -\n",
      "127.0.0.1 - - [18/Sep/2021 20:14:37] \"POST /_dash-update-component HTTP/1.1\" 200 -\n",
      "127.0.0.1 - - [18/Sep/2021 20:14:49] \"POST /_dash-update-component HTTP/1.1\" 200 -\n",
      "127.0.0.1 - - [18/Sep/2021 20:14:51] \"POST /_dash-update-component HTTP/1.1\" 200 -\n",
      "127.0.0.1 - - [18/Sep/2021 20:14:53] \"POST /_dash-update-component HTTP/1.1\" 200 -\n",
      "127.0.0.1 - - [18/Sep/2021 20:14:55] \"POST /_dash-update-component HTTP/1.1\" 200 -\n",
      "127.0.0.1 - - [18/Sep/2021 20:14:57] \"POST /_dash-update-component HTTP/1.1\" 200 -\n",
      "127.0.0.1 - - [18/Sep/2021 20:14:59] \"POST /_dash-update-component HTTP/1.1\" 200 -\n",
      "127.0.0.1 - - [18/Sep/2021 20:15:03] \"POST /_dash-update-component HTTP/1.1\" 200 -\n",
      "127.0.0.1 - - [18/Sep/2021 20:15:05] \"POST /_dash-update-component HTTP/1.1\" 200 -\n",
      "127.0.0.1 - - [18/Sep/2021 20:15:07] \"POST /_dash-update-component HTTP/1.1\" 200 -\n"
     ]
    },
    {
     "name": "stdout",
     "output_type": "stream",
     "text": [
      "Exception on /_dash-update-component [POST]\n",
      "Traceback (most recent call last):\n",
      "  File \"c:\\python39\\lib\\site-packages\\flask\\app.py\", line 2070, in wsgi_app\n",
      "    response = self.full_dispatch_request()\n",
      "  File \"c:\\python39\\lib\\site-packages\\flask\\app.py\", line 1515, in full_dispatch_request\n",
      "    rv = self.handle_user_exception(e)\n",
      "  File \"c:\\python39\\lib\\site-packages\\flask\\app.py\", line 1513, in full_dispatch_request\n",
      "    rv = self.dispatch_request()\n",
      "  File \"c:\\python39\\lib\\site-packages\\flask\\app.py\", line 1499, in dispatch_request\n",
      "    return self.ensure_sync(self.view_functions[rule.endpoint])(**req.view_args)\n",
      "  File \"C:\\Users\\Asus\\AppData\\Roaming\\Python\\Python39\\site-packages\\dash\\dash.py\", line 1079, in dispatch\n",
      "    response.set_data(func(*args, outputs_list=outputs_list))\n",
      "  File \"C:\\Users\\Asus\\AppData\\Roaming\\Python\\Python39\\site-packages\\dash\\dash.py\", line 1010, in add_context\n",
      "    output_value = func(*args, **kwargs)  # %% callback invoked %%\n",
      "  File \"<ipython-input-2-425987e227b7>\", line 48, in get_pie_chart\n",
      "    df_site_filtered=spacex_df[spacex_df['Launch Site']==site]\n",
      "NameError: name 'site' is not defined\n"
     ]
    },
    {
     "name": "stderr",
     "output_type": "stream",
     "text": [
      "127.0.0.1 - - [18/Sep/2021 20:15:11] \"POST /_dash-update-component HTTP/1.1\" 500 -\n",
      "127.0.0.1 - - [18/Sep/2021 20:15:11] \"POST /_dash-update-component HTTP/1.1\" 200 -\n"
     ]
    }
   ],
   "source": [
    "# Create a dash application\n",
    "app = dash.Dash(__name__)\n",
    "\n",
    "# Create an app layout\n",
    "app.layout = html.Div(children=[html.H1('SpaceX Launch Records Dashboard',\n",
    "                                        style={'textAlign': 'center', 'color': '#503D36',\n",
    "                                               'font-size': 40}),\n",
    "                                # TASK 1: Add a dropdown list to enable Launch Site selection\n",
    "                                # The default select value is for ALL sites\n",
    "                                html.Div(dcc.Dropdown(id='site-dropdown',\n",
    "                                 options=[\n",
    "                                     {'label':'All Sites','value':'ALL'},\n",
    "                                     {'label':'CCAFS LC-40','value':'CCAFS LC-40'},\n",
    "                                     {'label':'CCAFS SLC-40','value':'CCAFS SLC-40'},\n",
    "                                     {'label':'KSC LC-39A','value':'KSC LC-39A'},\n",
    "                                     {'label':'VAFB SLC-4E','value':'VAFB SLC-4E'}\n",
    "                                 ], value = 'ALL',\n",
    "                                 placeholder = 'Select a launch Site here',\n",
    "                                 searchable = True)),\n",
    "                                html.Br(),\n",
    "\n",
    "                                # TASK 2: Add a pie chart to show the total successful launches count for all sites\n",
    "                                # If a specific launch site was selected, show the Success vs. Failed counts for the site\n",
    "                                html.Div(dcc.Graph(id='success-pie-chart')),\n",
    "                                html.Br(),\n",
    "\n",
    "                                html.P(\"Payload range (Kg):\"),\n",
    "                                # TASK 3: Add a slider to select payload range\n",
    "                                dcc.RangeSlider(id='payload-slider',min=0,max=10000,step=1000,value=[min_payload,max_payload]),\n",
    "\n",
    "                                # TASK 4: Add a scatter chart to show the correlation between payload and launch success\n",
    "                                html.Div(dcc.Graph(id='success-payload-scatter-chart')),\n",
    "                                ])\n",
    "\n",
    "# TASK 2:\n",
    "# Add a callback function for `site-dropdown` as input, `success-pie-chart` as output\n",
    "@app.callback(Output(component_id = 'success-pie-chart',component_property = 'figure'),\n",
    "              Input(component_id = 'site-dropdown',component_property = 'value'))\n",
    "\n",
    "def get_pie_chart(entered_site):\n",
    "    filtered_df = spacex_df\n",
    "    if entered_site=='ALL':\n",
    "        fig=px.pie(spacex_df,values='class',\n",
    "        names='Launch Site',\n",
    "        title='Success Count for all launch sites')\n",
    "        return fig\n",
    "    else:\n",
    "        df_site_filtered=spacex_df[spacex_df['Launch Site']==site]\n",
    "        filtered_df=spacex_df[spacex_df['Launch Site']==entered_site]\n",
    "        df1=filtered_df.groupby(['Launch Site','class']).size().reset_index(name='class count')\n",
    "        fig = px.pie(df1, values='class count', names='class', title=f\"Total Success Launches for site {entered_site}\")\n",
    "        return fig\n",
    "\n",
    "# TASK 4:\n",
    "# Add a callback function for `site-dropdown` and `payload-slider` as inputs, `success-payload-scatter-chart` as output\n",
    "\n",
    "\n",
    "@app.callback(Output(component_id='success-payload-scatter-chart',component_property='figure'),\n",
    "                [Input(component_id='site-dropdown',component_property='value'),\n",
    "                Input(component_id='payload-slider',component_property='value')])\n",
    "def scatter(site,payload):\n",
    "    low, high = (payload[0],payload[1])\n",
    "    mask=spacex_df[spacex_df['Payload Mass (kg)'].between(low,high)]\n",
    "    if site=='ALL':\n",
    "        fig=px.scatter(mask,x='Payload Mass (kg)',y='class',color='Booster Version Category',title='Success count on Payload mass for all sites')\n",
    "        return fig\n",
    "    else:\n",
    "        mask_filtered=mask[mask['Launch Site']==site]\n",
    "        fig=px.scatter(mask_filtered,x='Payload Mass (kg)',y='class',color='Booster Version Category',title='Success count on Payload Mass for' + site)\n",
    "        return fig\n",
    "\n",
    "# Run the app\n",
    "if __name__ == '__main__':\n",
    "    app.run_server()"
   ]
  }
 ],
 "metadata": {
  "kernelspec": {
   "display_name": "Python 3",
   "language": "python",
   "name": "python3"
  },
  "language_info": {
   "codemirror_mode": {
    "name": "ipython",
    "version": 3
   },
   "file_extension": ".py",
   "mimetype": "text/x-python",
   "name": "python",
   "nbconvert_exporter": "python",
   "pygments_lexer": "ipython3",
   "version": "3.9.2"
  }
 },
 "nbformat": 4,
 "nbformat_minor": 5
}
